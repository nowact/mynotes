{
 "cells": [
  {
   "cell_type": "code",
   "execution_count": 28,
   "metadata": {},
   "outputs": [
    {
     "name": "stdout",
     "output_type": "stream",
     "text": [
      "numpy  version: 1.18.1\n",
      "pandas version: 1.0.3\n",
      "#dataframe example\n",
      "\n"
     ]
    }
   ],
   "source": [
    "import numpy as np\n",
    "import pandas as pd\n",
    "print('numpy  version:', np.__version__)\n",
    "print('pandas version:', pd.__version__)\n",
    "\n",
    "#rand int\n",
    "#5 rows, 3 cols, each value is rand integer between [1, 10)\n",
    "#np.random.randint(1, 10, (5, 3))\n",
    "\n",
    "data = [[3, 5, 1],\n",
    "       [9, 1, 7],\n",
    "       [5, 3, 7],\n",
    "       [6, 8, 6],\n",
    "       [9, 4, 3]]\n",
    "df = pd.DataFrame(data, columns=['col1', 'col2', 'col3'])\n",
    "\n",
    "print('#dataframe example\\n')\n",
    "print(df)"
   ]
  },
  {
   "cell_type": "code",
   "execution_count": 13,
   "metadata": {},
   "outputs": [
    {
     "name": "stdout",
     "output_type": "stream",
     "text": [
      "\n",
      "#dataframe.pipe()\n",
      "\n",
      "   col1  col2  col3\n",
      "0     5     7     3\n",
      "1    11     3     9\n",
      "2     7     5     9\n",
      "3     8    10     8\n",
      "4    11     6     5\n",
      "\n",
      "#dataframe.apply(axis=0)\n",
      "\n",
      "col1    6.4\n",
      "col2    4.2\n",
      "col3    4.8\n",
      "dtype: float64\n",
      "\n",
      "#dataframe.applymap()\n",
      "\n",
      "   col1  col2  col3\n",
      "0   300   500   100\n",
      "1   900   100   700\n",
      "2   500   300   700\n",
      "3   600   800   600\n",
      "4   900   400   300\n"
     ]
    }
   ],
   "source": [
    "##dataframe\n",
    "\n",
    "#Function application\n",
    "\n",
    "def adder(dataframe_self, arg2):\n",
    "    return dataframe_self + arg2\n",
    "\n",
    "#pipe(): table wise function application\n",
    "#        dataframe itself will be passed to function as first argument\n",
    "print('\\n#dataframe.pipe()\\n')\n",
    "print(df.pipe(adder, 2))\n",
    "\n",
    "#apply(): row or column wise function application\n",
    "#         takes an optional axis argument, default is 0, eg. column wise\n",
    "print('\\n#dataframe.apply(axis=0)\\n')\n",
    "print(df.apply(np.mean, axis=0))\n",
    "\n",
    "#applaymap(): element wise function application\n",
    "#             accept a fuction taking a single value and returning a single value\n",
    "print('\\n#dataframe.applymap()\\n')\n",
    "print(df.applymap(lambda x:x*100))\n",
    "\n"
   ]
  },
  {
   "cell_type": "code",
   "execution_count": 24,
   "metadata": {},
   "outputs": [
    {
     "name": "stdout",
     "output_type": "stream",
     "text": [
      "\n"
     ]
    }
   ],
   "source": [
    "#Sort\n",
    "data = np.random.randint(1, 10, (10,2))\n",
    "unsorted_df = pd.DataFrame(data\n",
    "                           ,index=[1,4,6,2,3,5,9,8,0,7]\n",
    "                           ,columns = ['col2','col1'])\n",
    "\n",
    "\n",
    "#sort by row label, ascending order\n",
    "unsorted_df.sort_index()\n",
    "\n",
    "#sort by descending order\n",
    "unsorted_df.sort_index(ascending=False)\n",
    "\n",
    "#sort by column label, axis parameter default is 0\n",
    "unsorted_df.sort_index(axis=1)\n",
    "\n",
    "#sort by values\n",
    "\n",
    "#parameter by take a single column name\n",
    "unsorted_df.sort_values(by='col1')\n",
    "\n",
    "#parameter by take a list of column names\n",
    "unsorted_df.sort_values(by=['col1', 'col2'])\n"
   ]
  },
  {
   "cell_type": "code",
   "execution_count": 49,
   "metadata": {},
   "outputs": [
    {
     "name": "stdout",
     "output_type": "stream",
     "text": [
      "Indexes have overlapping values: Int64Index([1, 2, 3, 4, 5], dtype='int64')\n",
      "\n"
     ]
    }
   ],
   "source": [
    "#concatenate\n",
    "\n",
    "one = pd.DataFrame({\n",
    "   'Name': ['Alex', 'Amy', 'Allen', 'Alice', 'Ayoung'],\n",
    "   'subject_id':['sub1','sub2','sub4','sub6','sub5'],\n",
    "   'Marks_scored':[98,90,87,69,78]},\n",
    "   index=[1,2,3,4,5])\n",
    "\n",
    "two = pd.DataFrame({\n",
    "   'Name': ['Billy', 'Brian', 'Bran', 'Bryce', 'Betty'],\n",
    "   'subject_id':['sub2','sub4','sub3','sub6','sub5'],\n",
    "   'Marks_scored':[89,80,79,97,88]},\n",
    "   index=[1,2,3,4,5])\n",
    "\n",
    "one.append(two)\n",
    "\n",
    "#如果index重复，则抛异常\n",
    "try:\n",
    "    one.append(two, verify_integrity=True)\n",
    "except Exception as e:\n",
    "    print(e)\n",
    "    \n",
    "\n",
    "#忽略原有的index，重新创建新的顺序index\n",
    "one.append(two, ignore_index=True)\n"
   ]
  },
  {
   "cell_type": "code",
   "execution_count": 26,
   "metadata": {},
   "outputs": [
    {
     "name": "stdout",
     "output_type": "stream",
     "text": [
      "\n"
     ]
    }
   ],
   "source": [
    "\n",
    "# set index\n",
    "\n",
    "# df has a sequence integer index after created\n",
    "df = pd.DataFrame({'month': [1, 4, 7, 10],\n",
    "                   'year': [2012, 2014, 2013, 2014],\n",
    "                   'sale': [55, 40, 84, 31]})\n",
    "\n",
    "# set one column as index\n",
    "df.set_index('year')\n",
    "\n",
    "# use the column as index, and keep the column\n",
    "df.set_index('year', drop=False)\n",
    "\n",
    "# set pandas Index as new index directly,\n",
    "# the length of new index must match number of rows\n",
    "df.set_index(pd.Index([4, 3, 2, 1]))\n",
    "\n",
    "\n",
    "# reset index\n",
    "\n",
    "one = pd.DataFrame({\n",
    "   'Name': ['Alex', 'Amy', 'Allen', 'Alice', 'Ayoung'],\n",
    "   'subject_id':['sub1','sub2','sub4','sub6','sub5'],\n",
    "   'Marks_scored':[98,90,87,69,78]},\n",
    "   index=[1,2,3,4,5])\n",
    "\n",
    "two = pd.DataFrame({\n",
    "   'Name': ['Billy', 'Brian', 'Bran', 'Bryce', 'Betty'],\n",
    "   'subject_id':['sub2','sub4','sub3','sub6','sub5'],\n",
    "   'Marks_scored':[89,80,79,97,88]},\n",
    "   index=[1,2,3,4,5])\n",
    "\n",
    "\n",
    "df = one.append(two) #df has duplicate index\n",
    "\n",
    "# 创建新的顺序index, 原来的index被作为新的列插入\n",
    "df.reset_index()\n",
    "\n",
    "# 创建新的顺序index, 原来的index被彻底丢弃\n",
    "df.reset_index(drop=True)\n",
    "print()\n",
    "\n"
   ]
  },
  {
   "cell_type": "code",
   "execution_count": null,
   "metadata": {},
   "outputs": [],
   "source": []
  }
 ],
 "metadata": {
  "kernelspec": {
   "display_name": "Python 3",
   "language": "python",
   "name": "python3"
  },
  "language_info": {
   "codemirror_mode": {
    "name": "ipython",
    "version": 3
   },
   "file_extension": ".py",
   "mimetype": "text/x-python",
   "name": "python",
   "nbconvert_exporter": "python",
   "pygments_lexer": "ipython3",
   "version": "3.7.7"
  }
 },
 "nbformat": 4,
 "nbformat_minor": 4
}
